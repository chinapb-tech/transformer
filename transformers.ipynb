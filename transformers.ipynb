{
 "cells": [
  {
   "cell_type": "markdown",
   "metadata": {},
   "source": [
    "# Embedding"
   ]
  },
  {
   "attachments": {
    "image.png": {
     "image/png": "[encoded data removed]"
    }
   },
   "cell_type": "markdown",
   "metadata": {},
   "source": [
    "![image.png](attachment:image.png)"
   ]
  },
  {
   "cell_type": "markdown",
   "metadata": {},
   "source": [
    "## Word Embedding"
   ]
  },
  {
   "cell_type": "code",
   "execution_count": null,
   "metadata": {},
   "outputs": [
    {
     "data": {
      "text/plain": [
       "tensor([[[ 1.0441,  0.8881,  0.8601,  0.3404, -0.0662,  0.0253],\n",
       "         [ 0.0484, -0.6636,  1.7338,  0.8148,  0.4544, -1.0431],\n",
       "         [ 0.9623, -0.2980, -0.2601, -0.4658,  0.6162,  1.3536],\n",
       "         [-0.3131, -0.2842,  1.5859,  1.3463, -0.3044,  1.2154],\n",
       "         [-0.7122,  0.4364,  0.9557,  0.2817, -1.3557,  0.4063],\n",
       "         [-1.3968, -0.0468,  1.4186, -0.4520, -1.5464,  1.2969],\n",
       "         [-1.5857, -1.3188,  0.1622,  0.2144, -1.5348,  0.8898],\n",
       "         [ 2.0735,  0.9201, -0.2692, -0.3501,  0.5740, -1.3714]],\n",
       "\n",
       "        [[ 1.0441,  0.8881,  0.8601,  0.3404, -0.0662,  0.0253],\n",
       "         [ 0.5270,  0.5284, -0.1764,  0.3905,  0.1528, -0.2726],\n",
       "         [-1.3968, -0.0468,  1.4186, -0.4520, -1.5464,  1.2969],\n",
       "         [ 0.9623, -0.2980, -0.2601, -0.4658,  0.6162,  1.3536],\n",
       "         [-1.0090,  1.7449, -0.7750, -0.2776, -0.3275, -0.7360],\n",
       "         [-1.5857, -1.3188,  0.1622,  0.2144, -1.5348,  0.8898],\n",
       "         [ 2.0735,  0.9201, -0.2692, -0.3501,  0.5740, -1.3714],\n",
       "         [ 2.0735,  0.9201, -0.2692, -0.3501,  0.5740, -1.3714]],\n",
       "\n",
       "        [[ 1.0441,  0.8881,  0.8601,  0.3404, -0.0662,  0.0253],\n",
       "         [ 1.9721, -0.3221, -0.3460, -0.1118,  1.0745, -0.4011],\n",
       "         [-1.3968, -0.0468,  1.4186, -0.4520, -1.5464,  1.2969],\n",
       "         [ 0.1932, -0.9900,  0.0679,  2.4462,  0.5999, -0.3425],\n",
       "         [-1.0090,  1.7449, -0.7750, -0.2776, -0.3275, -0.7360],\n",
       "         [-0.7122,  0.4364,  0.9557,  0.2817, -1.3557,  0.4063],\n",
       "         [ 0.5270,  0.5284, -0.1764,  0.3905,  0.1528, -0.2726],\n",
       "         [-1.5857, -1.3188,  0.1622,  0.2144, -1.5348,  0.8898]]],\n",
       "       grad_fn=<EmbeddingBackward0>)"
      ]
     },
     "execution_count": 1,
     "metadata": {},
     "output_type": "execute_result"
    }
   ],
   "source": [
    "import torch\n",
    "import torch.nn as nn\n",
    "\n",
    "\n",
    "class WordEmbedding(nn.Module):\n",
    "    def __init__(self, vocab_size: int, d_model: int):\n",
    "        super().__init__()\n",
    "        self.embedding = nn.Embedding(vocab_size, d_model)\n",
    "\n",
    "    def forward(self, x: torch.Tensor) -> torch.Tensor:\n",
    "        \"\"\"\n",
    "        获取输入词汇的embedding\n",
    "\n",
    "        Args:\n",
    "            x (torch.Tensor): 输入词汇。x.shape=(batch_size,seq_len)\n",
    "\n",
    "        Returns:\n",
    "            输入词汇的embedding。shape=(batch_size,seq_len,d_model)\n",
    "        \"\"\"\n",
    "        return self.embedding(x)\n",
    "\n",
    "\n",
    "batch_sentences = torch.tensor(\n",
    "    [\n",
    "        [101, 3, 2, 5, 7, 8, 102, 0],\n",
    "        [101, 13, 8, 2, 9, 102, 0, 0],\n",
    "        [101, 21, 8, 15, 9, 7, 13, 102],\n",
    "    ]\n",
    ")\n",
    "\n",
    "vocab_size = 200\n",
    "d_model = 6\n",
    "word_embedding_cls = WordEmbedding(vocab_size=vocab_size, d_model=d_model)\n",
    "word_embedding = word_embedding_cls(batch_sentences)\n",
    "word_embedding"
   ]
  },
  {
   "cell_type": "markdown",
   "metadata": {},
   "source": [
    "## Positional Embedding"
   ]
  },
  {
   "cell_type": "code",
   "execution_count": null,
   "metadata": {},
   "outputs": [],
   "source": [
    "import torch\n",
    "import torch.nn as nn\n",
    "import math\n",
    "\n",
    "\n",
    "class PositionalEmbedding(nn.Module):\n",
    "    def __init__(self, max_len: int, d_model: int):\n",
    "        super().__init__()\n",
    "        pe = torch.zeros(max_len, d_model)\n",
    "        position = torch.arange(0, max_len, 1)\n",
    "        freq = torch.exp(-torch.arange(0, d_model, 2) * math.log(10000.0) / d_model)\n",
    "        term = torch.outer(position, freq)\n",
    "        pe[:, 0::2] = torch.sin(term)\n",
    "        pe[:, 1::2] = torch.cos(term)\n",
    "        pe = pe.unsqueeze(0)\n",
    "        self.register_buffer(\"pe\", pe)\n",
    "\n",
    "    def forward(self, x: torch) -> torch.Tensor:\n",
    "        \"\"\"\n",
    "        获取输入词汇的位置编码\n",
    "\n",
    "        Args:\n",
    "            x (torch.Tensor): 输入词汇嵌入编码。x.shape=(batch_size,seq_len,d_model)\n",
    "\n",
    "        Returns:\n",
    "            输入词汇编码加入位置编码后的编码。shape=(batch_size,seq_len,d_model)\n",
    "        \"\"\"\n",
    "        return x + self.pe[:, : x.shape[1]]"
   ]
  },
  {
   "cell_type": "code",
   "execution_count": null,
   "metadata": {},
   "outputs": [
    {
     "data": {
      "text/plain": [
       "tensor([[[-0.4895,  2.0224,  0.1256,  0.2468,  0.9603,  0.1633],\n",
       "         [ 0.5383, -0.0153, -1.7394,  0.5999, -0.2176,  2.6253],\n",
       "         [ 0.6448, -2.4575,  0.1297,  2.0142,  0.3538,  1.9979],\n",
       "         [-1.0599, -1.7332, -0.9198,  3.6886,  0.3467,  0.5871],\n",
       "         [-0.8170, -0.4961, -2.3759,  1.4874,  0.9827, -0.1997],\n",
       "         [-0.6883,  0.3148, -0.2839,  0.2361, -0.2783, -0.7248],\n",
       "         [-2.5828, -0.1106, -0.4562,  0.6592,  0.0090,  1.7933],\n",
       "         [ 0.6318, -1.1657,  0.3813,  2.0933, -0.3936,  1.0309]],\n",
       "\n",
       "        [[-0.4895,  2.0224,  0.1256,  0.2468,  0.9603,  0.1633],\n",
       "         [ 1.9153,  0.2581, -1.4412,  2.0708,  0.1891,  1.6408],\n",
       "         [ 1.1799, -0.3850, -0.4212,  0.2586, -0.2847, -0.7248],\n",
       "         [-0.1233, -3.0313,  0.1758,  2.0088,  0.3559,  1.9979],\n",
       "         [-1.2965,  0.3316,  2.1926,  0.5421,  0.6768, -0.3318],\n",
       "         [-3.2623, -0.7871, -0.5011,  0.6709,  0.0069,  1.7933],\n",
       "         [-0.3046, -0.9594,  0.3369,  2.1071, -0.3957,  1.0310],\n",
       "         [ 0.6318, -1.1657,  0.3813,  2.0933, -0.3936,  1.0309]],\n",
       "\n",
       "        [[-0.4895,  2.0224,  0.1256,  0.2468,  0.9603,  0.1633],\n",
       "         [ 0.0476, -0.0713, -1.8667,  1.1355,  1.3823, -0.0484],\n",
       "         [ 1.1799, -0.3850, -0.4212,  0.2586, -0.2847, -0.7248],\n",
       "         [ 1.7648, -2.3210,  0.8719,  0.6251, -0.8898,  1.1803],\n",
       "         [-1.2965,  0.3316,  2.1926,  0.5421,  0.6768, -0.3318],\n",
       "         [-1.0191,  0.4412, -2.3305,  1.4778,  0.9848, -0.1997],\n",
       "         [ 0.7944,  0.6780, -1.2127,  2.0333,  0.1998,  1.6407],\n",
       "         [-1.6464, -0.3168, -0.4119,  0.6454,  0.0112,  1.7933]]],\n",
       "       grad_fn=<AddBackward0>)"
      ]
     },
     "execution_count": 11,
     "metadata": {},
     "output_type": "execute_result"
    }
   ],
   "source": [
    "batch_sentences = torch.tensor(\n",
    "    [\n",
    "        [101, 3, 2, 5, 7, 8, 102, 0],\n",
    "        [101, 13, 8, 2, 9, 102, 0, 0],\n",
    "        [101, 21, 8, 15, 9, 7, 13, 102],\n",
    "    ]\n",
    ")\n",
    "\n",
    "max_len = 512\n",
    "vocab_size = 200\n",
    "d_model = 6\n",
    "word_embedding_cls = WordEmbedding(vocab_size=vocab_size, d_model=d_model)\n",
    "word_embedding = word_embedding_cls(batch_sentences)\n",
    "positional_embedding_cls = PositionalEmbedding(max_len, d_model)\n",
    "positional_embedding = positional_embedding_cls(word_embedding)\n",
    "positional_embedding"
   ]
  },
  {
   "cell_type": "markdown",
   "metadata": {},
   "source": [
    "# Mask"
   ]
  },
  {
   "cell_type": "markdown",
   "metadata": {},
   "source": [
    "## Padding Mask"
   ]
  },
  {
   "cell_type": "code",
   "execution_count": null,
   "metadata": {},
   "outputs": [
    {
     "data": {
      "text/plain": [
       "tensor([[ True,  True,  True,  True,  True,  True,  True, False],\n",
       "        [ True,  True,  True,  True,  True,  True, False, False],\n",
       "        [ True,  True,  True,  True,  True,  True,  True,  True]])"
      ]
     },
     "execution_count": 19,
     "metadata": {},
     "output_type": "execute_result"
    }
   ],
   "source": [
    "import torch\n",
    "import torch.nn as nn\n",
    "\n",
    "\n",
    "def padding_mask(x: torch.Tensor, pad_value: int = 0) -> torch.Tensor:\n",
    "    \"\"\"x.shape=(batch_size,seq_len)\"\"\"\n",
    "    return x != pad_value\n",
    "\n",
    "\n",
    "batch_sentences = torch.tensor(\n",
    "    [\n",
    "        [101, 3, 2, 5, 7, 8, 102, 0],\n",
    "        [101, 13, 8, 2, 9, 102, 0, 0],\n",
    "        [101, 21, 8, 15, 9, 7, 13, 102],\n",
    "    ]\n",
    ")\n",
    "\n",
    "\n",
    "padding_mask(batch_sentences)"
   ]
  },
  {
   "cell_type": "markdown",
   "metadata": {},
   "source": [
    "## 前瞻掩码"
   ]
  },
  {
   "cell_type": "code",
   "execution_count": null,
   "metadata": {},
   "outputs": [],
   "source": []
  },
  {
   "cell_type": "code",
   "execution_count": null,
   "metadata": {},
   "outputs": [],
   "source": []
  },
  {
   "cell_type": "code",
   "execution_count": null,
   "metadata": {},
   "outputs": [],
   "source": []
  },
  {
   "cell_type": "code",
   "execution_count": null,
   "metadata": {},
   "outputs": [],
   "source": []
  },
  {
   "cell_type": "code",
   "execution_count": null,
   "metadata": {},
   "outputs": [],
   "source": []
  },
  {
   "cell_type": "code",
   "execution_count": null,
   "metadata": {},
   "outputs": [],
   "source": []
  },
  {
   "cell_type": "code",
   "execution_count": null,
   "metadata": {},
   "outputs": [],
   "source": []
  },
  {
   "cell_type": "code",
   "execution_count": null,
   "metadata": {},
   "outputs": [],
   "source": []
  },
  {
   "cell_type": "code",
   "execution_count": null,
   "metadata": {},
   "outputs": [],
   "source": []
  },
  {
   "cell_type": "code",
   "execution_count": null,
   "metadata": {},
   "outputs": [],
   "source": []
  },
  {
   "cell_type": "code",
   "execution_count": null,
   "metadata": {},
   "outputs": [],
   "source": []
  }
 ],
 "metadata": {
  "kernelspec": {
   "display_name": "pytorch2.4",
   "language": "python",
   "name": "python3"
  },
  "language_info": {
   "codemirror_mode": {
    "name": "ipython",
    "version": 3
   },
   "file_extension": ".py",
   "mimetype": "text/x-python",
   "name": "python",
   "nbconvert_exporter": "python",
   "pygments_lexer": "ipython3",
   "version": "3.11.0"
  }
 },
 "nbformat": 4,
 "nbformat_minor": 2
}
